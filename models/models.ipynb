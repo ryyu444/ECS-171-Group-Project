{
 "cells": [
  {
   "cell_type": "code",
   "execution_count": 6,
   "metadata": {},
   "outputs": [
    {
     "name": "stdout",
     "output_type": "stream",
     "text": [
      "Index(['Gender', 'Age', 'Sleep Duration', 'Sleep Quality', 'Physical Activity',\n",
      "       'Stress Level', 'BMI', 'Heart Rate', 'Daily Steps'],\n",
      "      dtype='object')\n"
     ]
    }
   ],
   "source": [
    "import numpy as np\n",
    "import pandas as pd\n",
    "import matplotlib.pyplot as plt\n",
    "import seaborn as sns\n",
    "\n",
    "from sklearn.model_selection import train_test_split\n",
    "from sklearn.linear_model import LinearRegression, LogisticRegression\n",
    "from sklearn.metrics import mean_squared_error, r2_score, accuracy_score, confusion_matrix, classification_report\n",
    "\n",
    "# Read in the data\n",
    "df = pd.read_csv('sleep_health_and_lifestyle_dataset.csv')\n",
    "\n",
    "# Drop data we're not using\n",
    "data = df.copy().drop(['Person ID', 'Occupation', 'Sleep Disorder', 'Blood Pressure'], axis = 1)\n",
    "\n",
    "# Rename columns\n",
    "data.rename(columns = {'BMI Category': 'BMI', 'Quality of Sleep': 'Sleep Quality', 'Physical Activity Level': 'Physical Activity'}, inplace = True)\n",
    "\n",
    "# Convert BMI normal weight -> normal\n",
    "data['BMI'] = np.where(data['BMI'] == 'Normal Weight', 'Normal', data['BMI'])\n",
    "\n",
    "\n",
    "# Convert BMI strings to numbers\n",
    "data['BMI'].replace([\"Normal\", \"Overweight\", \"Obese\"], [0, 1, 2], inplace=True)\n",
    "\n",
    "# Convert categorical data to numerical data\n",
    "# Convert Gender Strings to Numbers: Male to 0 and Female to 1\n",
    "data['Gender'] = np.where(data['Gender'] == 'Male', 1, 0)\n",
    "\n",
    "print(data.columns)\n"
   ]
  },
  {
   "cell_type": "code",
   "execution_count": 56,
   "metadata": {},
   "outputs": [
    {
     "name": "stdout",
     "output_type": "stream",
     "text": [
      "[ 7.  3.  6.  3.  4.  7.  4.  4.  3.  3.  7.  3.  3.  7.  7.  4.  6.  4.\n",
      "  6.  4.  7.  4.  4.  6.  4.  7.  4.  3.  4.  3.  6.  7. 10.  7.  3.  4.\n",
      "  3.  4.  7.  6.  7.  6.  4.  4.  7. 10.  7.  7.  6.  6.  6.  7.  4.  7.\n",
      "  4.  4.  6.  7.  7.  4.  6.  7.  6.  7.  8.  3.  3.  4.  7.  3.  4.  3.\n",
      "  6.  4.  4.  6.  7. 10.  6.  7.  4.  3.  6.  7.  8.  3.  6.  4.  7.  4.\n",
      "  7.  7.  6.  4.  7.  3.  4.  7.  7.  6.  7.  7.  7.  4.  3.  3.  3.  7.\n",
      "  6.  4.  7.  7.  7.  7.  6.  4.  3.  4.  8.  6.  4.  7.  6.  4.  7.  4.\n",
      "  6.  8.  6.  6.  6.  6.  4.  6.  4.  4.  3.  4.  3.  7.  6.  4.  3.  4.\n",
      "  4.  4.  6.  6.  3.  6.  4.  3.  4.  6.  4.  3.  7.  6.  6.  4.  7.  7.\n",
      "  7.  3.  6.  7.  3.  3. 10.  4.  3.  7.  7.  3.  3.  4.  3.  3.  7.  6.\n",
      "  4.  6.  6.  7.  4.  7.  6.  3.  4.  6.  6.  7.  4.  7.  4.  4.  3.  4.\n",
      "  4.  4.  4.  3.  4.  4.  7.  4.  3.  6.  4.  4.  8.  7. 10.  6.  3.  6.\n",
      "  3.  6.  4.  4.  6.  4.  6.  6.  6.  3.  3.  6.  3.  7.  7.  7.  7.  7.\n",
      "  3.  3.  4.  4.  7.  4.  4.  7.  3.  7.  4.  6.  6.  7.  4.  7.  7.  4.\n",
      "  3.  3.  4.  7.  3.  7.  7.  4.  3.  3.  4.  7.  7.  3.  4.  8.  4.  4.\n",
      "  7.  4.  7.  4.  4.  6.  6.  4.  6.  4.  4.  7.  6.  4.  6.  4.  4.  7.\n",
      "  3.  3.  7.  6.  4.  6.  6.  4.  6.  3.  6.]\n",
      "\n",
      "Train MSE: 0.8294314381270903\n",
      "Train R^2: 0.7308828546334807\n",
      "\n",
      "Test MSE: 0.56\n",
      "Test R^2: 0.8303350210061402\n"
     ]
    }
   ],
   "source": [
    "# linear regression model\n",
    "\n",
    "# Consider what predictor variables we want to use\n",
    "sleepDuration = data['Sleep Duration']\n",
    "sleepQuality = data['Sleep Quality']\n",
    "stressLevel = data['Stress Level']\n",
    "\n",
    "# Create a dataframe with the predictor variables\n",
    "pred = pd.DataFrame(data={'Sleep Duration': sleepDuration, 'Sleep Quality': sleepQuality, 'Stress Level': stressLevel})\n",
    "\n",
    "# Drop class we want to predict: Stress Level\n",
    "X = pred.copy().drop(['Stress Level'], axis=1)\n",
    "y = pred['Stress Level']\n",
    "\n",
    "# print(X)\n",
    "# print(y)\n",
    "\n",
    "# Split the data into training/testing sets with ratio of 80:20\n",
    "X_train, X_test, y_train, y_test = train_test_split(X, y, test_size=0.2)\n",
    "\n",
    "# Create the linear regression model\n",
    "lr = LinearRegression()\n",
    "lr.fit(X_train, y_train)\n",
    "\n",
    "# Make predictions using the testing set\n",
    "y_trainPred = lr.predict(X_train)\n",
    "y_testPred = lr.predict(X_test)\n",
    "\n",
    "# Round the predictions to the nearest integer\n",
    "y_trainPred = np.round(y_trainPred)\n",
    "y_testPred = np.round(y_testPred)\n",
    "\n",
    "# print(y_trainPred)\n",
    "\n",
    "# Calculate MSE & R^2\n",
    "mseTrain = mean_squared_error(y_train, y_trainPred)\n",
    "r2Train = r2_score(y_train, y_trainPred)\n",
    "mseTest = mean_squared_error(y_test, y_testPred)\n",
    "r2Test = r2_score(y_test, y_testPred)\n",
    "\n",
    "# Print results\n",
    "print(f'\\nTrain MSE: {mseTrain}')\n",
    "print(f'Train R^2: {r2Train}\\n')\n",
    "print(f'Test MSE: {mseTest}')\n",
    "print(f'Test R^2: {r2Test}')"
   ]
  },
  {
   "cell_type": "code",
   "execution_count": null,
   "metadata": {},
   "outputs": [],
   "source": [
    "# logistic regression model\n"
   ]
  }
 ],
 "metadata": {
  "kernelspec": {
   "display_name": "base",
   "language": "python",
   "name": "python3"
  },
  "language_info": {
   "codemirror_mode": {
    "name": "ipython",
    "version": 3
   },
   "file_extension": ".py",
   "mimetype": "text/x-python",
   "name": "python",
   "nbconvert_exporter": "python",
   "pygments_lexer": "ipython3",
   "version": "3.11.5"
  }
 },
 "nbformat": 4,
 "nbformat_minor": 2
}
